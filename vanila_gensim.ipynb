{
  "nbformat": 4,
  "nbformat_minor": 0,
  "metadata": {
    "colab": {
      "name": "vanila-gensim.ipynb",
      "provenance": [],
      "include_colab_link": true
    },
    "kernelspec": {
      "name": "python3",
      "display_name": "Python 3"
    },
    "language_info": {
      "name": "python"
    }
  },
  "cells": [
    {
      "cell_type": "markdown",
      "metadata": {
        "id": "view-in-github",
        "colab_type": "text"
      },
      "source": [
        "<a href=\"https://colab.research.google.com/github/sarasadatnasr/Data-Structures/blob/main/vanila_gensim.ipynb\" target=\"_parent\"><img src=\"https://colab.research.google.com/assets/colab-badge.svg\" alt=\"Open In Colab\"/></a>"
      ]
    },
    {
      "cell_type": "code",
      "execution_count": null,
      "metadata": {
        "id": "9j-Swa64opxl"
      },
      "outputs": [],
      "source": [
        "import gensim.downloader as api\n",
        "from gensim.models.word2vec import Word2Vec\n",
        "from os.path import exists\n",
        "from os import path\n",
        "from time import time\n",
        "import logging as log\n",
        "import pprint\n",
        "from sklearn.metrics.pairwise import cosine_similarity, cosine_distances\n",
        "from itertools import chain\n"
      ]
    },
    {
      "cell_type": "code",
      "source": [
        "pp = pprint.PrettyPrinter(indent=4)\n",
        "def config():\n",
        "    log.basicConfig(format=\"%(levelname)s - %(asctime)s: %(message)s\", datefmt='%H:%M:%S', level=log.INFO)\n",
        "\n",
        "\n",
        "def log_time(t):\n",
        "    log.info(\"processing time: {}\".format(time() - t))\n",
        "\n"
      ],
      "metadata": {
        "id": "ciVEbwt6o0jk"
      },
      "execution_count": null,
      "outputs": []
    },
    {
      "cell_type": "code",
      "source": [
        "# you can find out list of models here https://github.com/RaRe-Technologies/gensim-data\n",
        "\n",
        "model_name = 'text8'\n",
        "t = time()\n",
        "corpus = api.load(model_name)\n",
        "model = Word2Vec(corpus, iter=1)\n",
        "# model.save(model_name)\n",
        "log_time(t)\n"
      ],
      "metadata": {
        "id": "U9hbyNAho8Bt"
      },
      "execution_count": null,
      "outputs": []
    },
    {
      "cell_type": "code",
      "source": [
        "model.wv['king']"
      ],
      "metadata": {
        "colab": {
          "base_uri": "https://localhost:8080/"
        },
        "id": "qgdR4Q5Krw6y",
        "outputId": "67ef3288-6218-4b5e-d8b4-4e35a3aaf371"
      },
      "execution_count": null,
      "outputs": [
        {
          "output_type": "execute_result",
          "data": {
            "text/plain": [
              "array([ 0.1822137 ,  0.3731921 ,  0.3602994 ,  0.33756304,  1.861761  ,\n",
              "        0.2532734 , -0.17780222,  0.99650687, -0.75459194,  1.2373245 ,\n",
              "        0.5941558 , -0.893899  , -0.4394508 ,  0.07862775,  0.4639764 ,\n",
              "        0.1537341 ,  1.2933939 ,  2.3850765 , -0.7807768 ,  0.6881914 ,\n",
              "        0.6199402 ,  0.22228374, -0.682932  , -1.0246086 , -0.7528737 ,\n",
              "        0.26414973, -1.699528  , -0.25623417, -0.12303668,  0.60007566,\n",
              "       -1.0669955 , -0.45630032, -0.24397276, -1.413874  , -0.17230304,\n",
              "       -3.1792932 , -0.6514647 , -1.703334  , -0.43732792, -3.012184  ,\n",
              "        2.022623  ,  2.0167477 ,  0.56584084, -0.71613014, -0.13952029,\n",
              "       -0.9749226 , -1.2330898 , -0.7107026 ,  0.31943247,  1.9779415 ,\n",
              "        0.89785814, -1.2560358 , -0.13610026, -2.2036955 , -0.17991747,\n",
              "       -0.48402163,  1.1725218 ,  2.1929355 , -0.4805301 ,  0.46944827,\n",
              "        0.7960819 ,  1.7390257 ,  2.3890164 , -0.28776637,  2.3145025 ,\n",
              "        0.89852005, -0.09659492, -0.25979856, -0.0646442 , -1.3824877 ,\n",
              "        0.31940883, -0.51330936, -1.5304034 ,  0.93965834, -0.7058757 ,\n",
              "        1.6896899 , -0.55343914,  2.0547726 , -0.50452536,  0.82425   ,\n",
              "        1.1282488 , -0.9897028 ,  0.10758287, -1.6067835 , -1.6229104 ,\n",
              "       -0.28799027, -0.31442258, -0.13139588,  0.69498056,  1.2961211 ,\n",
              "        1.2901263 ,  0.43228388, -1.5246383 , -0.07678317,  0.34622216,\n",
              "       -0.42477632, -0.53042895,  0.878936  ,  2.370618  , -0.8388337 ],\n",
              "      dtype=float32)"
            ]
          },
          "metadata": {},
          "execution_count": 13
        }
      ]
    },
    {
      "cell_type": "code",
      "source": [
        "cosine_similarity(model.wv['king'].reshape(1, -1), model.wv['queen'].reshape(1, -1))"
      ],
      "metadata": {
        "colab": {
          "base_uri": "https://localhost:8080/"
        },
        "id": "DmezYfx1qJRa",
        "outputId": "6813020b-bfe6-4e04-a4e8-5c308c9fe823"
      },
      "execution_count": null,
      "outputs": [
        {
          "output_type": "execute_result",
          "data": {
            "text/plain": [
              "array([[0.9368118]], dtype=float32)"
            ]
          },
          "metadata": {},
          "execution_count": 8
        }
      ]
    },
    {
      "cell_type": "code",
      "source": [
        "model.most_similar('king')"
      ],
      "metadata": {
        "colab": {
          "base_uri": "https://localhost:8080/"
        },
        "id": "PvC34plUq-LL",
        "outputId": "b68157e2-351c-4c5e-cf6b-cb152dd454b7"
      },
      "execution_count": null,
      "outputs": [
        {
          "output_type": "stream",
          "name": "stderr",
          "text": [
            "/usr/local/lib/python3.7/dist-packages/ipykernel_launcher.py:1: DeprecationWarning: Call to deprecated `most_similar` (Method will be removed in 4.0.0, use self.wv.most_similar() instead).\n",
            "  \"\"\"Entry point for launching an IPython kernel.\n"
          ]
        },
        {
          "output_type": "execute_result",
          "data": {
            "text/plain": [
              "[('emperor', 0.9477778673171997),\n",
              " ('queen', 0.9368118047714233),\n",
              " ('pope', 0.9195593595504761),\n",
              " ('lord', 0.8967200517654419),\n",
              " ('prince', 0.8848166465759277),\n",
              " ('son', 0.8832793235778809),\n",
              " ('bishop', 0.8760722279548645),\n",
              " ('elizabeth', 0.8748124837875366),\n",
              " ('constantine', 0.8630993366241455),\n",
              " ('throne', 0.8626212477684021)]"
            ]
          },
          "metadata": {},
          "execution_count": 9
        }
      ]
    },
    {
      "cell_type": "code",
      "source": [
        "model.most_similar(positive=['woman', 'king'], negative=['man'])"
      ],
      "metadata": {
        "colab": {
          "base_uri": "https://localhost:8080/"
        },
        "id": "bVKBB5p7rRPP",
        "outputId": "5825ba33-2cc0-4eee-ee2d-27757af850b7"
      },
      "execution_count": null,
      "outputs": [
        {
          "output_type": "stream",
          "name": "stderr",
          "text": [
            "/usr/local/lib/python3.7/dist-packages/ipykernel_launcher.py:1: DeprecationWarning: Call to deprecated `most_similar` (Method will be removed in 4.0.0, use self.wv.most_similar() instead).\n",
            "  \"\"\"Entry point for launching an IPython kernel.\n"
          ]
        },
        {
          "output_type": "execute_result",
          "data": {
            "text/plain": [
              "[('pope', 0.8984917998313904),\n",
              " ('emperor', 0.8635917901992798),\n",
              " ('son', 0.8620151281356812),\n",
              " ('prince', 0.8578457832336426),\n",
              " ('queen', 0.8567991256713867),\n",
              " ('henry', 0.8535667657852173),\n",
              " ('duke', 0.8522915840148926),\n",
              " ('charles', 0.8461442589759827),\n",
              " ('elector', 0.8455029726028442),\n",
              " ('elizabeth', 0.8425397276878357)]"
            ]
          },
          "metadata": {},
          "execution_count": 12
        }
      ]
    }
  ]
}